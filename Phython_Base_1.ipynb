{
  "nbformat": 4,
  "nbformat_minor": 0,
  "metadata": {
    "colab": {
      "provenance": [],
      "authorship_tag": "ABX9TyPolstvlLcKHVif06yI9eKD",
      "include_colab_link": true
    },
    "kernelspec": {
      "name": "python3",
      "display_name": "Python 3"
    },
    "language_info": {
      "name": "python"
    }
  },
  "cells": [
    {
      "cell_type": "markdown",
      "metadata": {
        "id": "view-in-github",
        "colab_type": "text"
      },
      "source": [
        "<a href=\"https://colab.research.google.com/github/BernasconiLorenzo06/python-base/blob/main/Phython_Base_1.ipynb\" target=\"_parent\"><img src=\"https://colab.research.google.com/assets/colab-badge.svg\" alt=\"Open In Colab\"/></a>"
      ]
    },
    {
      "cell_type": "code",
      "execution_count": null,
      "metadata": {
        "colab": {
          "base_uri": "https://localhost:8080/"
        },
        "id": "e400RmP-BSu_",
        "outputId": "2524ba00-3f53-47a6-ef94-60b15c048624"
      },
      "outputs": [
        {
          "output_type": "stream",
          "name": "stdout",
          "text": [
            "hello worls\n"
          ]
        }
      ],
      "source": [
        "print(\"hello worls\")"
      ]
    },
    {
      "cell_type": "code",
      "source": [
        "a = 10 \n",
        "b = 20\n",
        "c = 10.5\n",
        "print(a,b,c)\n",
        "\n",
        "somma = a + b\n",
        "sottrazione = a - b\n",
        "moltiplicazione = a * b\n",
        "divisione = a / b\n",
        "print (somma,moltiplicazione,sottrazione,divisione)"
      ],
      "metadata": {
        "colab": {
          "base_uri": "https://localhost:8080/"
        },
        "id": "MnvJjPYYEnWB",
        "outputId": "aeb74b0f-0c29-4454-ccb4-fae577b8e3d9"
      },
      "execution_count": null,
      "outputs": [
        {
          "output_type": "stream",
          "name": "stdout",
          "text": [
            "10 20 10.5\n",
            "30 200 -10 0.5\n"
          ]
        }
      ]
    },
    {
      "cell_type": "code",
      "source": [
        "# inserimento dei dati"
      ],
      "metadata": {
        "id": "IWOg4p0eFu5Q"
      },
      "execution_count": null,
      "outputs": []
    },
    {
      "cell_type": "code",
      "source": [],
      "metadata": {
        "id": "VG2BLaNwO8Wo"
      },
      "execution_count": null,
      "outputs": []
    },
    {
      "cell_type": "code",
      "source": [
        "peso = input(\"inserisci il tuo peso\")\n",
        "altezza = input(\"inserisci la tua altezza\")\n",
        "Imc = int(peso) / (float(altezza) * float(altezza))\n",
        "print(\"il tuo indice di massa corporea\",Imc)\n",
        "\n",
        "if Imc < 18 :\n",
        "   print(\"sottopeso\")\n",
        "elif Imc > 25:\n",
        "     print(\"sovrappeso\")\n",
        "\n",
        "else:\n",
        "    print(\"normopeso\")\n",
        "\n"
      ],
      "metadata": {
        "id": "SnSlOj1BGKj3"
      },
      "execution_count": null,
      "outputs": []
    },
    {
      "cell_type": "markdown",
      "source": [],
      "metadata": {
        "id": "X1O20Mm1ORp2"
      }
    },
    {
      "cell_type": "code",
      "source": [
        "# scrivere un programma che calcoli le tasse da pagare\n",
        "#se il reddito è inferiore a 30000 si paga il 15%\n",
        "# se il reddito è compreso tra 30000 e 60000 si paga il 20%\n",
        "# se il reddito è superiore a 60000 si paga il 30%\n"
      ],
      "metadata": {
        "id": "7X2G6o3iO-nG"
      },
      "execution_count": null,
      "outputs": []
    },
    {
      "cell_type": "code",
      "source": [
        "reddito = int(input(\"inserisci il tuo reddito\"))\n",
        "percentuale = 0\n",
        "tassa = 0\n",
        "\n",
        "if reddito < 30000:\n",
        "  percentuale = 15\n",
        "elif reddito > 60000:\n",
        "  percentuale = 30\n",
        "else:\n",
        "  percentuale = 20\n",
        "\n",
        "tassa = (reddito * percentuale) / 100\n",
        "print(\"devi pagare il 20% di tasse\")\n",
        "print(\"devi pagare\" ,tassa , \"euro\")\n"
      ],
      "metadata": {
        "id": "lanvQknwSNoY"
      },
      "execution_count": null,
      "outputs": []
    },
    {
      "cell_type": "code",
      "source": [
        "# un negozio vuole incentivare gli acquisti applicando sconti maggiori a chi spende di più , se un cliente spendo fino a 100 euro viene fatto uno sconto del 15%\n",
        "# se spende da 100 a 200 euro lo sconto è del 20%\n",
        "# se spende da 200 a 300 euro lo sconto è del 40%\n",
        "# se spende più di 400 lo sconto è del 60 %\n",
        "# scrivere un programma che dato il totale di acquisto calcoli il prezzo finale che il cliente deve pagare.\n"
      ],
      "metadata": {
        "id": "Dy0CT3e2PyjA"
      },
      "execution_count": null,
      "outputs": []
    },
    {
      "cell_type": "code",
      "source": [
        "spesa = float(input(\"inserire quanto si ha speso\"))\n",
        "percentuale = 0\n",
        "sconto = 0\n",
        "prezzofinale = 0\n",
        "\n",
        "if spesa < 100:\n",
        "  percentuale = 15\n",
        "elif spesa > 100 and spesa < 200:\n",
        "  percentuale = 20\n",
        "elif spesa > 200 and spesa < 300:\n",
        "  percentuale = 40\n",
        "elif spesa > 400:\n",
        "  percentuale = 60\n",
        "\n",
        "sconto = (spesa * percentuale) / 100\n",
        "print(\"hai uno sconto\",sconto, \"euro\")\n",
        "prezzofinale = spesa - sconto\n",
        "print(\"il tuo prezzo finale è\", prezzofinale)"
      ],
      "metadata": {
        "id": "u1Ji9Q5APxm5"
      },
      "execution_count": null,
      "outputs": []
    },
    {
      "cell_type": "markdown",
      "source": [],
      "metadata": {
        "id": "38RGgxtuO2ww"
      }
    },
    {
      "cell_type": "code",
      "source": [],
      "metadata": {
        "id": "LbzJbiADO3Di"
      },
      "execution_count": null,
      "outputs": []
    }
  ]
}